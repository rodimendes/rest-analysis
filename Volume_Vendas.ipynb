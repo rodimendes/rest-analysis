{
  "cells": [
    {
      "cell_type": "markdown",
      "metadata": {
        "id": "view-in-github",
        "colab_type": "text"
      },
      "source": [
        "<a href=\"https://colab.research.google.com/github/rodimendes/rest-analysis/blob/main/Volume_Vendas.ipynb\" target=\"_parent\"><img src=\"https://colab.research.google.com/assets/colab-badge.svg\" alt=\"Open In Colab\"/></a>"
      ]
    },
    {
      "cell_type": "markdown",
      "metadata": {
        "id": "dJDaHzE9frXU"
      },
      "source": [
        "## Importação de bibliotecas e pastas"
      ]
    },
    {
      "cell_type": "code",
      "execution_count": null,
      "metadata": {
        "id": "tR12ajsAg3hF"
      },
      "outputs": [],
      "source": [
        "import pandas as pd\n",
        "import os\n",
        "import pathlib\n",
        "import sqlite3\n",
        "import datetime as dt"
      ]
    },
    {
      "cell_type": "code",
      "source": [
        "from google.colab import drive\n",
        "drive.mount('/ShardDrives/')"
      ],
      "metadata": {
        "colab": {
          "base_uri": "https://localhost:8080/"
        },
        "id": "YzzFoOgIbO1p",
        "outputId": "5a6a73d4-95fc-4da3-e5d0-12bf08721a43"
      },
      "execution_count": null,
      "outputs": [
        {
          "output_type": "stream",
          "name": "stdout",
          "text": [
            "Mounted at /ShardDrives/\n"
          ]
        }
      ]
    },
    {
      "cell_type": "code",
      "source": [
        "pd.set_option('float_format', '{:,.2f}'.format)"
      ],
      "metadata": {
        "id": "9Wr-Aad5dIP6"
      },
      "execution_count": null,
      "outputs": []
    },
    {
      "cell_type": "markdown",
      "metadata": {
        "id": "1fafYLq2YPAA"
      },
      "source": [
        "## Renomeando arquivos \n",
        "**Desnecessário para estes arquivos** \n",
        "\n",
        "Executado e nomes alterados"
      ]
    },
    {
      "cell_type": "code",
      "execution_count": null,
      "metadata": {
        "id": "pldus1nN_pyp",
        "colab": {
          "base_uri": "https://localhost:8080/"
        },
        "outputId": "fd9a794c-0078-4999-b9ca-0e8cbbd71574"
      },
      "outputs": [
        {
          "output_type": "execute_result",
          "data": {
            "text/plain": [
              "'folder = \"/ShardDrives/MyDrive/rest_data_extraction /volume_vendas_produto/\"\\nfor file in os.listdir(folder):\\n    old_name = folder + file\\n    data = pd.read_excel(old_name)\\n    if file[:7] != \\'vendas_\\':\\n      report_date = data[\\'Unnamed: 1\\'][1][-10:]\\n      new_name = f\"{folder}vendas_{report_date}.xlsx\"\\n      os.rename(old_name, new_name)'"
            ],
            "application/vnd.google.colaboratory.intrinsic+json": {
              "type": "string"
            }
          },
          "metadata": {},
          "execution_count": 4
        }
      ],
      "source": [
        "\"\"\"folder = \"/ShardDrives/MyDrive/rest_data_extraction /volume_vendas_produto/\"\n",
        "for file in os.listdir(folder):\n",
        "    old_name = folder + file\n",
        "    data = pd.read_excel(old_name)\n",
        "    if file[:7] != 'vendas_':\n",
        "      report_date = data['Unnamed: 1'][1][-10:]\n",
        "      new_name = f\"{folder}vendas_{report_date}.xlsx\"\n",
        "      os.rename(old_name, new_name)\"\"\""
      ]
    },
    {
      "cell_type": "markdown",
      "metadata": {
        "id": "6RTHnYKBwcfJ"
      },
      "source": [
        "## Data opening"
      ]
    },
    {
      "cell_type": "code",
      "execution_count": null,
      "metadata": {
        "id": "q3FGLiQdisz6"
      },
      "outputs": [],
      "source": [
        "file = \"/ShardDrives/MyDrive/rest_data_extraction /base_de_dados/volume_vendas_2018_2022.xlsx\"\n",
        "data = pd.read_excel(file)"
      ]
    },
    {
      "cell_type": "markdown",
      "metadata": {
        "id": "K4697PhwxUrt"
      },
      "source": [
        "## Visão geral do dataframe"
      ]
    },
    {
      "cell_type": "code",
      "execution_count": null,
      "metadata": {
        "id": "sVQ8b1yFitSO",
        "colab": {
          "base_uri": "https://localhost:8080/",
          "height": 363
        },
        "outputId": "28bcfae5-01ae-462f-df17-439dfdd500cd"
      },
      "outputs": [
        {
          "output_type": "execute_result",
          "data": {
            "text/plain": [
              "  Evolução de Vendas por Produto                  Unnamed: 1  \\\n",
              "0                            NaN                         NaN   \n",
              "1                            NaN                         NaN   \n",
              "2                            NaN                         NaN   \n",
              "3                            NaN                         NaN   \n",
              "4                  Séries: Todas  Data de Início: 01-01-2018   \n",
              "5                 Familia: Todas          Sub-Familia: Todas   \n",
              "6                            NaN                         NaN   \n",
              "7                           Data                      Código   \n",
              "8            2018-01-03 00:00:00                      100002   \n",
              "9            2018-01-03 00:00:00                      100003   \n",
              "\n",
              "                Unnamed: 2             Unnamed: 3  Unnamed: 4  \\\n",
              "0                      NaN                    NaN         NaN   \n",
              "1                      NaN                    NaN         NaN   \n",
              "2                      NaN                    NaN         NaN   \n",
              "3                      NaN                    NaN         NaN   \n",
              "4  Data de Fim: 25-08-2022                    NaN         NaN   \n",
              "5                      NaN                    NaN         NaN   \n",
              "6                      NaN                    NaN         NaN   \n",
              "7                  Produto  Familia / Sub-Familia  Quantidade   \n",
              "8                  Avenida      Bebidas / Cerveja           4   \n",
              "9              Batata Doce        Comida / Evento           9   \n",
              "\n",
              "          Unnamed: 5   Unnamed: 6  \n",
              "0                NaN          NaN  \n",
              "1                NaN          NaN  \n",
              "2                NaN          NaN  \n",
              "3                NaN          NaN  \n",
              "4                NaN          NaN  \n",
              "5                NaN          NaN  \n",
              "6                NaN          NaN  \n",
              "7  Valor Total S/IVA  Valor Total  \n",
              "8              13.90        17.10  \n",
              "9              41.42        46.80  "
            ],
            "text/html": [
              "\n",
              "  <div id=\"df-e940c018-eba2-447b-8d99-bf4071ecc9a5\">\n",
              "    <div class=\"colab-df-container\">\n",
              "      <div>\n",
              "<style scoped>\n",
              "    .dataframe tbody tr th:only-of-type {\n",
              "        vertical-align: middle;\n",
              "    }\n",
              "\n",
              "    .dataframe tbody tr th {\n",
              "        vertical-align: top;\n",
              "    }\n",
              "\n",
              "    .dataframe thead th {\n",
              "        text-align: right;\n",
              "    }\n",
              "</style>\n",
              "<table border=\"1\" class=\"dataframe\">\n",
              "  <thead>\n",
              "    <tr style=\"text-align: right;\">\n",
              "      <th></th>\n",
              "      <th>Evolução de Vendas por Produto</th>\n",
              "      <th>Unnamed: 1</th>\n",
              "      <th>Unnamed: 2</th>\n",
              "      <th>Unnamed: 3</th>\n",
              "      <th>Unnamed: 4</th>\n",
              "      <th>Unnamed: 5</th>\n",
              "      <th>Unnamed: 6</th>\n",
              "    </tr>\n",
              "  </thead>\n",
              "  <tbody>\n",
              "    <tr>\n",
              "      <th>0</th>\n",
              "      <td>NaN</td>\n",
              "      <td>NaN</td>\n",
              "      <td>NaN</td>\n",
              "      <td>NaN</td>\n",
              "      <td>NaN</td>\n",
              "      <td>NaN</td>\n",
              "      <td>NaN</td>\n",
              "    </tr>\n",
              "    <tr>\n",
              "      <th>1</th>\n",
              "      <td>NaN</td>\n",
              "      <td>NaN</td>\n",
              "      <td>NaN</td>\n",
              "      <td>NaN</td>\n",
              "      <td>NaN</td>\n",
              "      <td>NaN</td>\n",
              "      <td>NaN</td>\n",
              "    </tr>\n",
              "    <tr>\n",
              "      <th>2</th>\n",
              "      <td>NaN</td>\n",
              "      <td>NaN</td>\n",
              "      <td>NaN</td>\n",
              "      <td>NaN</td>\n",
              "      <td>NaN</td>\n",
              "      <td>NaN</td>\n",
              "      <td>NaN</td>\n",
              "    </tr>\n",
              "    <tr>\n",
              "      <th>3</th>\n",
              "      <td>NaN</td>\n",
              "      <td>NaN</td>\n",
              "      <td>NaN</td>\n",
              "      <td>NaN</td>\n",
              "      <td>NaN</td>\n",
              "      <td>NaN</td>\n",
              "      <td>NaN</td>\n",
              "    </tr>\n",
              "    <tr>\n",
              "      <th>4</th>\n",
              "      <td>Séries: Todas</td>\n",
              "      <td>Data de Início: 01-01-2018</td>\n",
              "      <td>Data de Fim: 25-08-2022</td>\n",
              "      <td>NaN</td>\n",
              "      <td>NaN</td>\n",
              "      <td>NaN</td>\n",
              "      <td>NaN</td>\n",
              "    </tr>\n",
              "    <tr>\n",
              "      <th>5</th>\n",
              "      <td>Familia: Todas</td>\n",
              "      <td>Sub-Familia: Todas</td>\n",
              "      <td>NaN</td>\n",
              "      <td>NaN</td>\n",
              "      <td>NaN</td>\n",
              "      <td>NaN</td>\n",
              "      <td>NaN</td>\n",
              "    </tr>\n",
              "    <tr>\n",
              "      <th>6</th>\n",
              "      <td>NaN</td>\n",
              "      <td>NaN</td>\n",
              "      <td>NaN</td>\n",
              "      <td>NaN</td>\n",
              "      <td>NaN</td>\n",
              "      <td>NaN</td>\n",
              "      <td>NaN</td>\n",
              "    </tr>\n",
              "    <tr>\n",
              "      <th>7</th>\n",
              "      <td>Data</td>\n",
              "      <td>Código</td>\n",
              "      <td>Produto</td>\n",
              "      <td>Familia / Sub-Familia</td>\n",
              "      <td>Quantidade</td>\n",
              "      <td>Valor Total S/IVA</td>\n",
              "      <td>Valor Total</td>\n",
              "    </tr>\n",
              "    <tr>\n",
              "      <th>8</th>\n",
              "      <td>2018-01-03 00:00:00</td>\n",
              "      <td>100002</td>\n",
              "      <td>Avenida</td>\n",
              "      <td>Bebidas / Cerveja</td>\n",
              "      <td>4</td>\n",
              "      <td>13.90</td>\n",
              "      <td>17.10</td>\n",
              "    </tr>\n",
              "    <tr>\n",
              "      <th>9</th>\n",
              "      <td>2018-01-03 00:00:00</td>\n",
              "      <td>100003</td>\n",
              "      <td>Batata Doce</td>\n",
              "      <td>Comida / Evento</td>\n",
              "      <td>9</td>\n",
              "      <td>41.42</td>\n",
              "      <td>46.80</td>\n",
              "    </tr>\n",
              "  </tbody>\n",
              "</table>\n",
              "</div>\n",
              "      <button class=\"colab-df-convert\" onclick=\"convertToInteractive('df-e940c018-eba2-447b-8d99-bf4071ecc9a5')\"\n",
              "              title=\"Convert this dataframe to an interactive table.\"\n",
              "              style=\"display:none;\">\n",
              "        \n",
              "  <svg xmlns=\"http://www.w3.org/2000/svg\" height=\"24px\"viewBox=\"0 0 24 24\"\n",
              "       width=\"24px\">\n",
              "    <path d=\"M0 0h24v24H0V0z\" fill=\"none\"/>\n",
              "    <path d=\"M18.56 5.44l.94 2.06.94-2.06 2.06-.94-2.06-.94-.94-2.06-.94 2.06-2.06.94zm-11 1L8.5 8.5l.94-2.06 2.06-.94-2.06-.94L8.5 2.5l-.94 2.06-2.06.94zm10 10l.94 2.06.94-2.06 2.06-.94-2.06-.94-.94-2.06-.94 2.06-2.06.94z\"/><path d=\"M17.41 7.96l-1.37-1.37c-.4-.4-.92-.59-1.43-.59-.52 0-1.04.2-1.43.59L10.3 9.45l-7.72 7.72c-.78.78-.78 2.05 0 2.83L4 21.41c.39.39.9.59 1.41.59.51 0 1.02-.2 1.41-.59l7.78-7.78 2.81-2.81c.8-.78.8-2.07 0-2.86zM5.41 20L4 18.59l7.72-7.72 1.47 1.35L5.41 20z\"/>\n",
              "  </svg>\n",
              "      </button>\n",
              "      \n",
              "  <style>\n",
              "    .colab-df-container {\n",
              "      display:flex;\n",
              "      flex-wrap:wrap;\n",
              "      gap: 12px;\n",
              "    }\n",
              "\n",
              "    .colab-df-convert {\n",
              "      background-color: #E8F0FE;\n",
              "      border: none;\n",
              "      border-radius: 50%;\n",
              "      cursor: pointer;\n",
              "      display: none;\n",
              "      fill: #1967D2;\n",
              "      height: 32px;\n",
              "      padding: 0 0 0 0;\n",
              "      width: 32px;\n",
              "    }\n",
              "\n",
              "    .colab-df-convert:hover {\n",
              "      background-color: #E2EBFA;\n",
              "      box-shadow: 0px 1px 2px rgba(60, 64, 67, 0.3), 0px 1px 3px 1px rgba(60, 64, 67, 0.15);\n",
              "      fill: #174EA6;\n",
              "    }\n",
              "\n",
              "    [theme=dark] .colab-df-convert {\n",
              "      background-color: #3B4455;\n",
              "      fill: #D2E3FC;\n",
              "    }\n",
              "\n",
              "    [theme=dark] .colab-df-convert:hover {\n",
              "      background-color: #434B5C;\n",
              "      box-shadow: 0px 1px 3px 1px rgba(0, 0, 0, 0.15);\n",
              "      filter: drop-shadow(0px 1px 2px rgba(0, 0, 0, 0.3));\n",
              "      fill: #FFFFFF;\n",
              "    }\n",
              "  </style>\n",
              "\n",
              "      <script>\n",
              "        const buttonEl =\n",
              "          document.querySelector('#df-e940c018-eba2-447b-8d99-bf4071ecc9a5 button.colab-df-convert');\n",
              "        buttonEl.style.display =\n",
              "          google.colab.kernel.accessAllowed ? 'block' : 'none';\n",
              "\n",
              "        async function convertToInteractive(key) {\n",
              "          const element = document.querySelector('#df-e940c018-eba2-447b-8d99-bf4071ecc9a5');\n",
              "          const dataTable =\n",
              "            await google.colab.kernel.invokeFunction('convertToInteractive',\n",
              "                                                     [key], {});\n",
              "          if (!dataTable) return;\n",
              "\n",
              "          const docLinkHtml = 'Like what you see? Visit the ' +\n",
              "            '<a target=\"_blank\" href=https://colab.research.google.com/notebooks/data_table.ipynb>data table notebook</a>'\n",
              "            + ' to learn more about interactive tables.';\n",
              "          element.innerHTML = '';\n",
              "          dataTable['output_type'] = 'display_data';\n",
              "          await google.colab.output.renderOutput(dataTable, element);\n",
              "          const docLink = document.createElement('div');\n",
              "          docLink.innerHTML = docLinkHtml;\n",
              "          element.appendChild(docLink);\n",
              "        }\n",
              "      </script>\n",
              "    </div>\n",
              "  </div>\n",
              "  "
            ]
          },
          "metadata": {},
          "execution_count": 5
        }
      ],
      "source": [
        "data.head(10)"
      ]
    },
    {
      "cell_type": "markdown",
      "metadata": {
        "id": "eMrQSXb748uy"
      },
      "source": [
        "## Limpeza inicial\n",
        "\n",
        "Limpar linhas vazias e reiniciar o index"
      ]
    },
    {
      "cell_type": "code",
      "source": [
        "df = data.rename(columns=data.iloc[7]).iloc[8:-1].reset_index(drop=True)\n",
        "df"
      ],
      "metadata": {
        "id": "kpYC8cKqRvpe",
        "colab": {
          "base_uri": "https://localhost:8080/",
          "height": 424
        },
        "outputId": "4b611f0d-8650-4a18-8202-61c1decd492a"
      },
      "execution_count": null,
      "outputs": [
        {
          "output_type": "execute_result",
          "data": {
            "text/plain": [
              "                      Data  Código             Produto  Familia / Sub-Familia  \\\n",
              "0      2018-01-03 00:00:00  100002             Avenida      Bebidas / Cerveja   \n",
              "1      2018-01-03 00:00:00  100003         Batata Doce        Comida / Evento   \n",
              "2      2018-01-03 00:00:00  100005            Berbigão        Comida / Pratos   \n",
              "3      2018-01-03 00:00:00  100012            Cp Dashi  Bebidas / Soft Drinks   \n",
              "4      2018-01-03 00:00:00  100022  Cp Phaunus Pet Nat   Bebidas / Espumantes   \n",
              "...                    ...     ...                 ...                    ...   \n",
              "68219  2022-08-24 00:00:00  101431      Alheta Pescada     Comida / Especiais   \n",
              "68220  2022-08-24 00:00:00  101432         Leite Frito    Comida / Sobremesas   \n",
              "68221  2022-08-24 00:00:00  101450         Extra Tosta        Comida / Snacks   \n",
              "68222  2022-08-24 00:00:00  101454              Cereja    Comida / Sobremesas   \n",
              "68223  2022-08-24 00:00:00  101456         Extra Lirio        Comida / Snacks   \n",
              "\n",
              "      Quantidade Valor Total S/IVA Valor Total  \n",
              "0              4             13.90       17.10  \n",
              "1              9             41.42       46.80  \n",
              "2              9             42.83       48.40  \n",
              "3              1              3.10        3.50  \n",
              "4              2             13.01          16  \n",
              "...          ...               ...         ...  \n",
              "68219          4             60.18          68  \n",
              "68220          6             47.79          54  \n",
              "68221          1              3.54           4  \n",
              "68222          1              6.64        7.50  \n",
              "68223          1              3.98        4.50  \n",
              "\n",
              "[68224 rows x 7 columns]"
            ],
            "text/html": [
              "\n",
              "  <div id=\"df-553db16e-bd84-47b3-b751-d95bf3798c36\">\n",
              "    <div class=\"colab-df-container\">\n",
              "      <div>\n",
              "<style scoped>\n",
              "    .dataframe tbody tr th:only-of-type {\n",
              "        vertical-align: middle;\n",
              "    }\n",
              "\n",
              "    .dataframe tbody tr th {\n",
              "        vertical-align: top;\n",
              "    }\n",
              "\n",
              "    .dataframe thead th {\n",
              "        text-align: right;\n",
              "    }\n",
              "</style>\n",
              "<table border=\"1\" class=\"dataframe\">\n",
              "  <thead>\n",
              "    <tr style=\"text-align: right;\">\n",
              "      <th></th>\n",
              "      <th>Data</th>\n",
              "      <th>Código</th>\n",
              "      <th>Produto</th>\n",
              "      <th>Familia / Sub-Familia</th>\n",
              "      <th>Quantidade</th>\n",
              "      <th>Valor Total S/IVA</th>\n",
              "      <th>Valor Total</th>\n",
              "    </tr>\n",
              "  </thead>\n",
              "  <tbody>\n",
              "    <tr>\n",
              "      <th>0</th>\n",
              "      <td>2018-01-03 00:00:00</td>\n",
              "      <td>100002</td>\n",
              "      <td>Avenida</td>\n",
              "      <td>Bebidas / Cerveja</td>\n",
              "      <td>4</td>\n",
              "      <td>13.90</td>\n",
              "      <td>17.10</td>\n",
              "    </tr>\n",
              "    <tr>\n",
              "      <th>1</th>\n",
              "      <td>2018-01-03 00:00:00</td>\n",
              "      <td>100003</td>\n",
              "      <td>Batata Doce</td>\n",
              "      <td>Comida / Evento</td>\n",
              "      <td>9</td>\n",
              "      <td>41.42</td>\n",
              "      <td>46.80</td>\n",
              "    </tr>\n",
              "    <tr>\n",
              "      <th>2</th>\n",
              "      <td>2018-01-03 00:00:00</td>\n",
              "      <td>100005</td>\n",
              "      <td>Berbigão</td>\n",
              "      <td>Comida / Pratos</td>\n",
              "      <td>9</td>\n",
              "      <td>42.83</td>\n",
              "      <td>48.40</td>\n",
              "    </tr>\n",
              "    <tr>\n",
              "      <th>3</th>\n",
              "      <td>2018-01-03 00:00:00</td>\n",
              "      <td>100012</td>\n",
              "      <td>Cp Dashi</td>\n",
              "      <td>Bebidas / Soft Drinks</td>\n",
              "      <td>1</td>\n",
              "      <td>3.10</td>\n",
              "      <td>3.50</td>\n",
              "    </tr>\n",
              "    <tr>\n",
              "      <th>4</th>\n",
              "      <td>2018-01-03 00:00:00</td>\n",
              "      <td>100022</td>\n",
              "      <td>Cp Phaunus Pet Nat</td>\n",
              "      <td>Bebidas / Espumantes</td>\n",
              "      <td>2</td>\n",
              "      <td>13.01</td>\n",
              "      <td>16</td>\n",
              "    </tr>\n",
              "    <tr>\n",
              "      <th>...</th>\n",
              "      <td>...</td>\n",
              "      <td>...</td>\n",
              "      <td>...</td>\n",
              "      <td>...</td>\n",
              "      <td>...</td>\n",
              "      <td>...</td>\n",
              "      <td>...</td>\n",
              "    </tr>\n",
              "    <tr>\n",
              "      <th>68219</th>\n",
              "      <td>2022-08-24 00:00:00</td>\n",
              "      <td>101431</td>\n",
              "      <td>Alheta Pescada</td>\n",
              "      <td>Comida / Especiais</td>\n",
              "      <td>4</td>\n",
              "      <td>60.18</td>\n",
              "      <td>68</td>\n",
              "    </tr>\n",
              "    <tr>\n",
              "      <th>68220</th>\n",
              "      <td>2022-08-24 00:00:00</td>\n",
              "      <td>101432</td>\n",
              "      <td>Leite Frito</td>\n",
              "      <td>Comida / Sobremesas</td>\n",
              "      <td>6</td>\n",
              "      <td>47.79</td>\n",
              "      <td>54</td>\n",
              "    </tr>\n",
              "    <tr>\n",
              "      <th>68221</th>\n",
              "      <td>2022-08-24 00:00:00</td>\n",
              "      <td>101450</td>\n",
              "      <td>Extra Tosta</td>\n",
              "      <td>Comida / Snacks</td>\n",
              "      <td>1</td>\n",
              "      <td>3.54</td>\n",
              "      <td>4</td>\n",
              "    </tr>\n",
              "    <tr>\n",
              "      <th>68222</th>\n",
              "      <td>2022-08-24 00:00:00</td>\n",
              "      <td>101454</td>\n",
              "      <td>Cereja</td>\n",
              "      <td>Comida / Sobremesas</td>\n",
              "      <td>1</td>\n",
              "      <td>6.64</td>\n",
              "      <td>7.50</td>\n",
              "    </tr>\n",
              "    <tr>\n",
              "      <th>68223</th>\n",
              "      <td>2022-08-24 00:00:00</td>\n",
              "      <td>101456</td>\n",
              "      <td>Extra Lirio</td>\n",
              "      <td>Comida / Snacks</td>\n",
              "      <td>1</td>\n",
              "      <td>3.98</td>\n",
              "      <td>4.50</td>\n",
              "    </tr>\n",
              "  </tbody>\n",
              "</table>\n",
              "<p>68224 rows × 7 columns</p>\n",
              "</div>\n",
              "      <button class=\"colab-df-convert\" onclick=\"convertToInteractive('df-553db16e-bd84-47b3-b751-d95bf3798c36')\"\n",
              "              title=\"Convert this dataframe to an interactive table.\"\n",
              "              style=\"display:none;\">\n",
              "        \n",
              "  <svg xmlns=\"http://www.w3.org/2000/svg\" height=\"24px\"viewBox=\"0 0 24 24\"\n",
              "       width=\"24px\">\n",
              "    <path d=\"M0 0h24v24H0V0z\" fill=\"none\"/>\n",
              "    <path d=\"M18.56 5.44l.94 2.06.94-2.06 2.06-.94-2.06-.94-.94-2.06-.94 2.06-2.06.94zm-11 1L8.5 8.5l.94-2.06 2.06-.94-2.06-.94L8.5 2.5l-.94 2.06-2.06.94zm10 10l.94 2.06.94-2.06 2.06-.94-2.06-.94-.94-2.06-.94 2.06-2.06.94z\"/><path d=\"M17.41 7.96l-1.37-1.37c-.4-.4-.92-.59-1.43-.59-.52 0-1.04.2-1.43.59L10.3 9.45l-7.72 7.72c-.78.78-.78 2.05 0 2.83L4 21.41c.39.39.9.59 1.41.59.51 0 1.02-.2 1.41-.59l7.78-7.78 2.81-2.81c.8-.78.8-2.07 0-2.86zM5.41 20L4 18.59l7.72-7.72 1.47 1.35L5.41 20z\"/>\n",
              "  </svg>\n",
              "      </button>\n",
              "      \n",
              "  <style>\n",
              "    .colab-df-container {\n",
              "      display:flex;\n",
              "      flex-wrap:wrap;\n",
              "      gap: 12px;\n",
              "    }\n",
              "\n",
              "    .colab-df-convert {\n",
              "      background-color: #E8F0FE;\n",
              "      border: none;\n",
              "      border-radius: 50%;\n",
              "      cursor: pointer;\n",
              "      display: none;\n",
              "      fill: #1967D2;\n",
              "      height: 32px;\n",
              "      padding: 0 0 0 0;\n",
              "      width: 32px;\n",
              "    }\n",
              "\n",
              "    .colab-df-convert:hover {\n",
              "      background-color: #E2EBFA;\n",
              "      box-shadow: 0px 1px 2px rgba(60, 64, 67, 0.3), 0px 1px 3px 1px rgba(60, 64, 67, 0.15);\n",
              "      fill: #174EA6;\n",
              "    }\n",
              "\n",
              "    [theme=dark] .colab-df-convert {\n",
              "      background-color: #3B4455;\n",
              "      fill: #D2E3FC;\n",
              "    }\n",
              "\n",
              "    [theme=dark] .colab-df-convert:hover {\n",
              "      background-color: #434B5C;\n",
              "      box-shadow: 0px 1px 3px 1px rgba(0, 0, 0, 0.15);\n",
              "      filter: drop-shadow(0px 1px 2px rgba(0, 0, 0, 0.3));\n",
              "      fill: #FFFFFF;\n",
              "    }\n",
              "  </style>\n",
              "\n",
              "      <script>\n",
              "        const buttonEl =\n",
              "          document.querySelector('#df-553db16e-bd84-47b3-b751-d95bf3798c36 button.colab-df-convert');\n",
              "        buttonEl.style.display =\n",
              "          google.colab.kernel.accessAllowed ? 'block' : 'none';\n",
              "\n",
              "        async function convertToInteractive(key) {\n",
              "          const element = document.querySelector('#df-553db16e-bd84-47b3-b751-d95bf3798c36');\n",
              "          const dataTable =\n",
              "            await google.colab.kernel.invokeFunction('convertToInteractive',\n",
              "                                                     [key], {});\n",
              "          if (!dataTable) return;\n",
              "\n",
              "          const docLinkHtml = 'Like what you see? Visit the ' +\n",
              "            '<a target=\"_blank\" href=https://colab.research.google.com/notebooks/data_table.ipynb>data table notebook</a>'\n",
              "            + ' to learn more about interactive tables.';\n",
              "          element.innerHTML = '';\n",
              "          dataTable['output_type'] = 'display_data';\n",
              "          await google.colab.output.renderOutput(dataTable, element);\n",
              "          const docLink = document.createElement('div');\n",
              "          docLink.innerHTML = docLinkHtml;\n",
              "          element.appendChild(docLink);\n",
              "        }\n",
              "      </script>\n",
              "    </div>\n",
              "  </div>\n",
              "  "
            ]
          },
          "metadata": {},
          "execution_count": 6
        }
      ]
    },
    {
      "cell_type": "code",
      "source": [
        "new_column = df['Familia / Sub-Familia'].str.split('/', n=1, expand=True)\n",
        "df['familia'] = new_column[0]\n",
        "df['sub_familia'] = new_column[1]\n",
        "df = df[['Data', 'Código', 'Produto', 'familia', 'sub_familia', 'Quantidade', 'Valor Total S/IVA', 'Valor Total']]\n",
        "df.columns = ['data', 'codigo', 'produto', 'familia', 'sub_familia', 'quantidade', 'total_s_iva', 'total']"
      ],
      "metadata": {
        "id": "8vRUunSp49Qo"
      },
      "execution_count": null,
      "outputs": []
    },
    {
      "cell_type": "markdown",
      "source": [
        "### Tratamento de colunas\n",
        "Definindo o tipo adequado para as colunas"
      ],
      "metadata": {
        "id": "t6mbvMMONTk4"
      }
    },
    {
      "cell_type": "code",
      "execution_count": null,
      "metadata": {
        "id": "peSlXUC4n_JU"
      },
      "outputs": [],
      "source": [
        "df.info()"
      ]
    },
    {
      "cell_type": "code",
      "execution_count": null,
      "metadata": {
        "id": "8IBrskEI6OAI"
      },
      "outputs": [],
      "source": [
        "df.data = pd.to_datetime(df.data)\n",
        "df['codigo'] = pd.to_numeric(df['codigo'])\n",
        "df['quantidade'] = pd.to_numeric(df['quantidade'])\n",
        "df['total_s_iva'] = pd.to_numeric(df['total_s_iva'])\n",
        "df['total'] = pd.to_numeric(df['total'])\n",
        "df.info()"
      ]
    },
    {
      "cell_type": "code",
      "execution_count": null,
      "metadata": {
        "id": "UXwyxEoe8pLE"
      },
      "outputs": [],
      "source": [
        "df.columns"
      ]
    },
    {
      "cell_type": "markdown",
      "source": [
        "## Criação do Banco de Dados\n",
        "**Etapa desnecessária para este caso de já termos o dataset completo e não ser necessário atualizar com novos dados**\n"
      ],
      "metadata": {
        "id": "yKH9qzPNBb32"
      }
    },
    {
      "cell_type": "code",
      "execution_count": null,
      "metadata": {
        "id": "Gwo4_JgH_U49"
      },
      "outputs": [],
      "source": [
        "#bd = sqlite3.connect(\"vendas_restaurantes.db\")"
      ]
    },
    {
      "cell_type": "code",
      "execution_count": null,
      "metadata": {
        "id": "4zhE_xm3DRbX"
      },
      "outputs": [],
      "source": [
        "#cursor = bd.cursor()"
      ]
    },
    {
      "cell_type": "markdown",
      "source": [
        "### A célula abaixo só é necessário executar na primeira vez, para a criação da tabela no banco de dados"
      ],
      "metadata": {
        "id": "k56F6Dwt_jct"
      }
    },
    {
      "cell_type": "code",
      "execution_count": null,
      "metadata": {
        "id": "PltoWhoSCdHP"
      },
      "outputs": [],
      "source": [
        "#cursor.execute(\"CREATE TABLE 'Vendas Restauração 2018_2022' (data INTEGER, codigo INT, produto TEXT, familia TEXT, sub_familia TEXT, quantidade INT, total_s_iva REAL, total REAL)\")"
      ]
    },
    {
      "cell_type": "code",
      "source": [
        "#df.head(2)"
      ],
      "metadata": {
        "id": "1wCbCtg7_2kw"
      },
      "execution_count": null,
      "outputs": []
    },
    {
      "cell_type": "code",
      "execution_count": null,
      "metadata": {
        "id": "-LhVFjcGH5XT"
      },
      "outputs": [],
      "source": [
        "#for index, row in df.iterrows():\n",
        "#    data = row[0]\n",
        "#    codigo = row[1]\n",
        "#    produto = row[2]\n",
        "#    familia = row[3]\n",
        "#    sub_familia = row[4]\n",
        "#    quantidade = row[5]\n",
        "#    total_s_iva = row[6]\n",
        "#    total = row[7]\n",
        "#    cursor.execute('''INSERT INTO 'Vendas Restauração 2018_2022' \\\n",
        "#                    (data, codigo, produto, familia, sub_familia, quantidade, total_s_iva, total) VALUES (?,?,?,?,?,?,?,?)''', \\\n",
        "#                    (str(data), codigo, produto, familia, sub_familia, quantidade, total_s_iva, total))\n",
        "#    \n",
        "#    bd.commit()"
      ]
    },
    {
      "cell_type": "markdown",
      "source": [
        "##**Primeiras explorações**"
      ],
      "metadata": {
        "id": "0pxWjXkDVkR6"
      }
    },
    {
      "cell_type": "code",
      "source": [
        "# Faturamento total do período\n",
        "\n",
        "faturamento_total = df.total.sum()\n",
        "f'A empresa faturou {faturamento_total:,.2f} euros durante o período'"
      ],
      "metadata": {
        "colab": {
          "base_uri": "https://localhost:8080/",
          "height": 35
        },
        "id": "49osB_RfXre0",
        "outputId": "813b3484-9bf8-47dd-817f-7f71013c1adc"
      },
      "execution_count": null,
      "outputs": [
        {
          "output_type": "execute_result",
          "data": {
            "text/plain": [
              "'A empresa faturou 4,603,194.17 euros durante o período'"
            ],
            "application/vnd.google.colaboratory.intrinsic+json": {
              "type": "string"
            }
          },
          "metadata": {},
          "execution_count": 14
        }
      ]
    },
    {
      "cell_type": "code",
      "source": [
        "# Faturamento por família\n",
        "faturamento_familia = df[['familia', 'total']].groupby(by='familia').sum()\n",
        "faturamento_familia.sort_values(by='total', ascending=False)"
      ],
      "metadata": {
        "id": "cirwWKRMVi9B",
        "colab": {
          "base_uri": "https://localhost:8080/",
          "height": 300
        },
        "outputId": "92cfacea-c74a-43a7-ec8b-b6570311d078"
      },
      "execution_count": null,
      "outputs": [
        {
          "output_type": "execute_result",
          "data": {
            "text/plain": [
              "                             total\n",
              "familia                           \n",
              "Comida                3,058,871.40\n",
              "Bebidas               1,464,298.98\n",
              "Outros                   79,387.59\n",
              "Talho                       370.00\n",
              "Sem Familia Definida        226.00\n",
              "Peixaria                     20.70\n",
              "Mercearia                    19.50"
            ],
            "text/html": [
              "\n",
              "  <div id=\"df-61cc3e11-611a-44d7-8c5f-6362ea677408\">\n",
              "    <div class=\"colab-df-container\">\n",
              "      <div>\n",
              "<style scoped>\n",
              "    .dataframe tbody tr th:only-of-type {\n",
              "        vertical-align: middle;\n",
              "    }\n",
              "\n",
              "    .dataframe tbody tr th {\n",
              "        vertical-align: top;\n",
              "    }\n",
              "\n",
              "    .dataframe thead th {\n",
              "        text-align: right;\n",
              "    }\n",
              "</style>\n",
              "<table border=\"1\" class=\"dataframe\">\n",
              "  <thead>\n",
              "    <tr style=\"text-align: right;\">\n",
              "      <th></th>\n",
              "      <th>total</th>\n",
              "    </tr>\n",
              "    <tr>\n",
              "      <th>familia</th>\n",
              "      <th></th>\n",
              "    </tr>\n",
              "  </thead>\n",
              "  <tbody>\n",
              "    <tr>\n",
              "      <th>Comida</th>\n",
              "      <td>3,058,871.40</td>\n",
              "    </tr>\n",
              "    <tr>\n",
              "      <th>Bebidas</th>\n",
              "      <td>1,464,298.98</td>\n",
              "    </tr>\n",
              "    <tr>\n",
              "      <th>Outros</th>\n",
              "      <td>79,387.59</td>\n",
              "    </tr>\n",
              "    <tr>\n",
              "      <th>Talho</th>\n",
              "      <td>370.00</td>\n",
              "    </tr>\n",
              "    <tr>\n",
              "      <th>Sem Familia Definida</th>\n",
              "      <td>226.00</td>\n",
              "    </tr>\n",
              "    <tr>\n",
              "      <th>Peixaria</th>\n",
              "      <td>20.70</td>\n",
              "    </tr>\n",
              "    <tr>\n",
              "      <th>Mercearia</th>\n",
              "      <td>19.50</td>\n",
              "    </tr>\n",
              "  </tbody>\n",
              "</table>\n",
              "</div>\n",
              "      <button class=\"colab-df-convert\" onclick=\"convertToInteractive('df-61cc3e11-611a-44d7-8c5f-6362ea677408')\"\n",
              "              title=\"Convert this dataframe to an interactive table.\"\n",
              "              style=\"display:none;\">\n",
              "        \n",
              "  <svg xmlns=\"http://www.w3.org/2000/svg\" height=\"24px\"viewBox=\"0 0 24 24\"\n",
              "       width=\"24px\">\n",
              "    <path d=\"M0 0h24v24H0V0z\" fill=\"none\"/>\n",
              "    <path d=\"M18.56 5.44l.94 2.06.94-2.06 2.06-.94-2.06-.94-.94-2.06-.94 2.06-2.06.94zm-11 1L8.5 8.5l.94-2.06 2.06-.94-2.06-.94L8.5 2.5l-.94 2.06-2.06.94zm10 10l.94 2.06.94-2.06 2.06-.94-2.06-.94-.94-2.06-.94 2.06-2.06.94z\"/><path d=\"M17.41 7.96l-1.37-1.37c-.4-.4-.92-.59-1.43-.59-.52 0-1.04.2-1.43.59L10.3 9.45l-7.72 7.72c-.78.78-.78 2.05 0 2.83L4 21.41c.39.39.9.59 1.41.59.51 0 1.02-.2 1.41-.59l7.78-7.78 2.81-2.81c.8-.78.8-2.07 0-2.86zM5.41 20L4 18.59l7.72-7.72 1.47 1.35L5.41 20z\"/>\n",
              "  </svg>\n",
              "      </button>\n",
              "      \n",
              "  <style>\n",
              "    .colab-df-container {\n",
              "      display:flex;\n",
              "      flex-wrap:wrap;\n",
              "      gap: 12px;\n",
              "    }\n",
              "\n",
              "    .colab-df-convert {\n",
              "      background-color: #E8F0FE;\n",
              "      border: none;\n",
              "      border-radius: 50%;\n",
              "      cursor: pointer;\n",
              "      display: none;\n",
              "      fill: #1967D2;\n",
              "      height: 32px;\n",
              "      padding: 0 0 0 0;\n",
              "      width: 32px;\n",
              "    }\n",
              "\n",
              "    .colab-df-convert:hover {\n",
              "      background-color: #E2EBFA;\n",
              "      box-shadow: 0px 1px 2px rgba(60, 64, 67, 0.3), 0px 1px 3px 1px rgba(60, 64, 67, 0.15);\n",
              "      fill: #174EA6;\n",
              "    }\n",
              "\n",
              "    [theme=dark] .colab-df-convert {\n",
              "      background-color: #3B4455;\n",
              "      fill: #D2E3FC;\n",
              "    }\n",
              "\n",
              "    [theme=dark] .colab-df-convert:hover {\n",
              "      background-color: #434B5C;\n",
              "      box-shadow: 0px 1px 3px 1px rgba(0, 0, 0, 0.15);\n",
              "      filter: drop-shadow(0px 1px 2px rgba(0, 0, 0, 0.3));\n",
              "      fill: #FFFFFF;\n",
              "    }\n",
              "  </style>\n",
              "\n",
              "      <script>\n",
              "        const buttonEl =\n",
              "          document.querySelector('#df-61cc3e11-611a-44d7-8c5f-6362ea677408 button.colab-df-convert');\n",
              "        buttonEl.style.display =\n",
              "          google.colab.kernel.accessAllowed ? 'block' : 'none';\n",
              "\n",
              "        async function convertToInteractive(key) {\n",
              "          const element = document.querySelector('#df-61cc3e11-611a-44d7-8c5f-6362ea677408');\n",
              "          const dataTable =\n",
              "            await google.colab.kernel.invokeFunction('convertToInteractive',\n",
              "                                                     [key], {});\n",
              "          if (!dataTable) return;\n",
              "\n",
              "          const docLinkHtml = 'Like what you see? Visit the ' +\n",
              "            '<a target=\"_blank\" href=https://colab.research.google.com/notebooks/data_table.ipynb>data table notebook</a>'\n",
              "            + ' to learn more about interactive tables.';\n",
              "          element.innerHTML = '';\n",
              "          dataTable['output_type'] = 'display_data';\n",
              "          await google.colab.output.renderOutput(dataTable, element);\n",
              "          const docLink = document.createElement('div');\n",
              "          docLink.innerHTML = docLinkHtml;\n",
              "          element.appendChild(docLink);\n",
              "        }\n",
              "      </script>\n",
              "    </div>\n",
              "  </div>\n",
              "  "
            ]
          },
          "metadata": {},
          "execution_count": 15
        }
      ]
    },
    {
      "cell_type": "markdown",
      "source": [
        "###Rentabilidade diária"
      ],
      "metadata": {
        "id": "F0sJqz0SIqal"
      }
    },
    {
      "cell_type": "code",
      "source": [
        "df[df['data'] == '2018-01-03'].count()"
      ],
      "metadata": {
        "colab": {
          "base_uri": "https://localhost:8080/"
        },
        "id": "vg0zXECyZfMn",
        "outputId": "4df9c5a1-bb55-41fc-ef99-ad1dd40828b1"
      },
      "execution_count": null,
      "outputs": [
        {
          "output_type": "execute_result",
          "data": {
            "text/plain": [
              "data           44\n",
              "codigo         44\n",
              "produto        44\n",
              "familia        44\n",
              "sub_familia    44\n",
              "quantidade     44\n",
              "total_s_iva    44\n",
              "total          44\n",
              "dtype: int64"
            ]
          },
          "metadata": {},
          "execution_count": 16
        }
      ]
    },
    {
      "cell_type": "code",
      "source": [
        "dt.date.isoweekday(df.data[50])"
      ],
      "metadata": {
        "id": "NtROSgmNZgdE"
      },
      "execution_count": null,
      "outputs": []
    },
    {
      "cell_type": "code",
      "source": [
        "# Criando uma lista com todos os dias de venda e atribuindo a uma nova coluna\n",
        "dia_semana = []\n",
        "for dia in df.data:\n",
        "  dia_semana.append(dt.date.isoweekday(dia))\n",
        "\n",
        "df['dia_semana'] = dia_semana"
      ],
      "metadata": {
        "id": "pdTGm6nvf5r3"
      },
      "execution_count": null,
      "outputs": []
    },
    {
      "cell_type": "code",
      "source": [
        "rentabilidade_diaria = df[['familia', 'total', 'dia_semana']].groupby(by='dia_semana').sum()"
      ],
      "metadata": {
        "id": "Kzee65PIdhkj"
      },
      "execution_count": null,
      "outputs": []
    },
    {
      "cell_type": "code",
      "source": [
        "# Qual a rentabilidade diária para o período?\n",
        "\n",
        "rentabilidade_diaria.sort_values(by='total', ascending=False)"
      ],
      "metadata": {
        "colab": {
          "base_uri": "https://localhost:8080/",
          "height": 300
        },
        "id": "nY9DYr6AhE3n",
        "outputId": "c9fea94b-8ab3-4d5d-c351-004d98de2a1a"
      },
      "execution_count": null,
      "outputs": [
        {
          "output_type": "execute_result",
          "data": {
            "text/plain": [
              "                  total\n",
              "dia_semana             \n",
              "6          1,089,471.37\n",
              "5          1,082,017.64\n",
              "4            888,494.16\n",
              "3            744,466.71\n",
              "7            719,266.45\n",
              "2             47,654.04\n",
              "1             31,823.80"
            ],
            "text/html": [
              "\n",
              "  <div id=\"df-c5ec3fc3-b1ed-418b-8f0f-8b46f419be6e\">\n",
              "    <div class=\"colab-df-container\">\n",
              "      <div>\n",
              "<style scoped>\n",
              "    .dataframe tbody tr th:only-of-type {\n",
              "        vertical-align: middle;\n",
              "    }\n",
              "\n",
              "    .dataframe tbody tr th {\n",
              "        vertical-align: top;\n",
              "    }\n",
              "\n",
              "    .dataframe thead th {\n",
              "        text-align: right;\n",
              "    }\n",
              "</style>\n",
              "<table border=\"1\" class=\"dataframe\">\n",
              "  <thead>\n",
              "    <tr style=\"text-align: right;\">\n",
              "      <th></th>\n",
              "      <th>total</th>\n",
              "    </tr>\n",
              "    <tr>\n",
              "      <th>dia_semana</th>\n",
              "      <th></th>\n",
              "    </tr>\n",
              "  </thead>\n",
              "  <tbody>\n",
              "    <tr>\n",
              "      <th>6</th>\n",
              "      <td>1,089,471.37</td>\n",
              "    </tr>\n",
              "    <tr>\n",
              "      <th>5</th>\n",
              "      <td>1,082,017.64</td>\n",
              "    </tr>\n",
              "    <tr>\n",
              "      <th>4</th>\n",
              "      <td>888,494.16</td>\n",
              "    </tr>\n",
              "    <tr>\n",
              "      <th>3</th>\n",
              "      <td>744,466.71</td>\n",
              "    </tr>\n",
              "    <tr>\n",
              "      <th>7</th>\n",
              "      <td>719,266.45</td>\n",
              "    </tr>\n",
              "    <tr>\n",
              "      <th>2</th>\n",
              "      <td>47,654.04</td>\n",
              "    </tr>\n",
              "    <tr>\n",
              "      <th>1</th>\n",
              "      <td>31,823.80</td>\n",
              "    </tr>\n",
              "  </tbody>\n",
              "</table>\n",
              "</div>\n",
              "      <button class=\"colab-df-convert\" onclick=\"convertToInteractive('df-c5ec3fc3-b1ed-418b-8f0f-8b46f419be6e')\"\n",
              "              title=\"Convert this dataframe to an interactive table.\"\n",
              "              style=\"display:none;\">\n",
              "        \n",
              "  <svg xmlns=\"http://www.w3.org/2000/svg\" height=\"24px\"viewBox=\"0 0 24 24\"\n",
              "       width=\"24px\">\n",
              "    <path d=\"M0 0h24v24H0V0z\" fill=\"none\"/>\n",
              "    <path d=\"M18.56 5.44l.94 2.06.94-2.06 2.06-.94-2.06-.94-.94-2.06-.94 2.06-2.06.94zm-11 1L8.5 8.5l.94-2.06 2.06-.94-2.06-.94L8.5 2.5l-.94 2.06-2.06.94zm10 10l.94 2.06.94-2.06 2.06-.94-2.06-.94-.94-2.06-.94 2.06-2.06.94z\"/><path d=\"M17.41 7.96l-1.37-1.37c-.4-.4-.92-.59-1.43-.59-.52 0-1.04.2-1.43.59L10.3 9.45l-7.72 7.72c-.78.78-.78 2.05 0 2.83L4 21.41c.39.39.9.59 1.41.59.51 0 1.02-.2 1.41-.59l7.78-7.78 2.81-2.81c.8-.78.8-2.07 0-2.86zM5.41 20L4 18.59l7.72-7.72 1.47 1.35L5.41 20z\"/>\n",
              "  </svg>\n",
              "      </button>\n",
              "      \n",
              "  <style>\n",
              "    .colab-df-container {\n",
              "      display:flex;\n",
              "      flex-wrap:wrap;\n",
              "      gap: 12px;\n",
              "    }\n",
              "\n",
              "    .colab-df-convert {\n",
              "      background-color: #E8F0FE;\n",
              "      border: none;\n",
              "      border-radius: 50%;\n",
              "      cursor: pointer;\n",
              "      display: none;\n",
              "      fill: #1967D2;\n",
              "      height: 32px;\n",
              "      padding: 0 0 0 0;\n",
              "      width: 32px;\n",
              "    }\n",
              "\n",
              "    .colab-df-convert:hover {\n",
              "      background-color: #E2EBFA;\n",
              "      box-shadow: 0px 1px 2px rgba(60, 64, 67, 0.3), 0px 1px 3px 1px rgba(60, 64, 67, 0.15);\n",
              "      fill: #174EA6;\n",
              "    }\n",
              "\n",
              "    [theme=dark] .colab-df-convert {\n",
              "      background-color: #3B4455;\n",
              "      fill: #D2E3FC;\n",
              "    }\n",
              "\n",
              "    [theme=dark] .colab-df-convert:hover {\n",
              "      background-color: #434B5C;\n",
              "      box-shadow: 0px 1px 3px 1px rgba(0, 0, 0, 0.15);\n",
              "      filter: drop-shadow(0px 1px 2px rgba(0, 0, 0, 0.3));\n",
              "      fill: #FFFFFF;\n",
              "    }\n",
              "  </style>\n",
              "\n",
              "      <script>\n",
              "        const buttonEl =\n",
              "          document.querySelector('#df-c5ec3fc3-b1ed-418b-8f0f-8b46f419be6e button.colab-df-convert');\n",
              "        buttonEl.style.display =\n",
              "          google.colab.kernel.accessAllowed ? 'block' : 'none';\n",
              "\n",
              "        async function convertToInteractive(key) {\n",
              "          const element = document.querySelector('#df-c5ec3fc3-b1ed-418b-8f0f-8b46f419be6e');\n",
              "          const dataTable =\n",
              "            await google.colab.kernel.invokeFunction('convertToInteractive',\n",
              "                                                     [key], {});\n",
              "          if (!dataTable) return;\n",
              "\n",
              "          const docLinkHtml = 'Like what you see? Visit the ' +\n",
              "            '<a target=\"_blank\" href=https://colab.research.google.com/notebooks/data_table.ipynb>data table notebook</a>'\n",
              "            + ' to learn more about interactive tables.';\n",
              "          element.innerHTML = '';\n",
              "          dataTable['output_type'] = 'display_data';\n",
              "          await google.colab.output.renderOutput(dataTable, element);\n",
              "          const docLink = document.createElement('div');\n",
              "          docLink.innerHTML = docLinkHtml;\n",
              "          element.appendChild(docLink);\n",
              "        }\n",
              "      </script>\n",
              "    </div>\n",
              "  </div>\n",
              "  "
            ]
          },
          "metadata": {},
          "execution_count": 20
        }
      ]
    },
    {
      "cell_type": "code",
      "source": [
        "# Qual dia da semana possui mais entradas?\n",
        "\n",
        "df.dia_semana.value_counts()"
      ],
      "metadata": {
        "colab": {
          "base_uri": "https://localhost:8080/"
        },
        "id": "lY_rUXmrhSBx",
        "outputId": "de29513b-dfc5-437a-fe86-26c313358730"
      },
      "execution_count": null,
      "outputs": [
        {
          "output_type": "execute_result",
          "data": {
            "text/plain": [
              "5    14997\n",
              "6    14638\n",
              "4    13709\n",
              "3    12233\n",
              "7    11525\n",
              "2      696\n",
              "1      426\n",
              "Name: dia_semana, dtype: int64"
            ]
          },
          "metadata": {},
          "execution_count": 21
        }
      ]
    },
    {
      "cell_type": "markdown",
      "source": [
        "##**Regressão Linear - Faturamento futuro**##"
      ],
      "metadata": {
        "id": "rQTfg1iZ4C4_"
      }
    },
    {
      "cell_type": "code",
      "source": [
        "import statsmodels.api as sm\n",
        "from sklearn.linear_model import LinearRegression\n",
        "import matplotlib.pyplot as plt"
      ],
      "metadata": {
        "id": "1rzaX9EN4jL2"
      },
      "execution_count": null,
      "outputs": []
    },
    {
      "cell_type": "code",
      "source": [
        "object_df = df.select_dtypes(include=['object']).copy()"
      ],
      "metadata": {
        "id": "dhRr44GRvcQb",
        "colab": {
          "base_uri": "https://localhost:8080/"
        },
        "outputId": "2cbac45a-2de1-4465-c861-e97ecafa29e2"
      },
      "execution_count": null,
      "outputs": [
        {
          "output_type": "stream",
          "name": "stdout",
          "text": [
            "<class 'pandas.core.frame.DataFrame'>\n",
            "RangeIndex: 68224 entries, 0 to 68223\n",
            "Data columns (total 9 columns):\n",
            " #   Column       Non-Null Count  Dtype         \n",
            "---  ------       --------------  -----         \n",
            " 0   data         68224 non-null  datetime64[ns]\n",
            " 1   codigo       68224 non-null  int64         \n",
            " 2   produto      68224 non-null  object        \n",
            " 3   familia      68224 non-null  object        \n",
            " 4   sub_familia  68224 non-null  object        \n",
            " 5   quantidade   68224 non-null  float64       \n",
            " 6   total_s_iva  68224 non-null  float64       \n",
            " 7   total        68224 non-null  float64       \n",
            " 8   dia_semana   68224 non-null  int64         \n",
            "dtypes: datetime64[ns](1), float64(3), int64(2), object(3)\n",
            "memory usage: 4.7+ MB\n"
          ]
        }
      ]
    },
    {
      "cell_type": "code",
      "source": [],
      "metadata": {
        "id": "7KJhW25LtZCQ"
      },
      "execution_count": null,
      "outputs": []
    }
  ],
  "metadata": {
    "colab": {
      "collapsed_sections": [
        "dJDaHzE9frXU",
        "1fafYLq2YPAA",
        "6RTHnYKBwcfJ",
        "K4697PhwxUrt"
      ],
      "provenance": [],
      "include_colab_link": true
    },
    "kernelspec": {
      "display_name": "Python 3 (ipykernel)",
      "language": "python",
      "name": "python3"
    },
    "language_info": {
      "codemirror_mode": {
        "name": "ipython",
        "version": 3
      },
      "file_extension": ".py",
      "mimetype": "text/x-python",
      "name": "python",
      "nbconvert_exporter": "python",
      "pygments_lexer": "ipython3",
      "version": "3.8.12"
    },
    "toc": {
      "base_numbering": 1,
      "nav_menu": {},
      "number_sections": true,
      "sideBar": true,
      "skip_h1_title": false,
      "title_cell": "Table of Contents",
      "title_sidebar": "Contents",
      "toc_cell": false,
      "toc_position": {},
      "toc_section_display": true,
      "toc_window_display": false
    }
  },
  "nbformat": 4,
  "nbformat_minor": 0
}