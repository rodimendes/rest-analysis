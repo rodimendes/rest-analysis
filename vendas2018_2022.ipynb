{
  "cells": [
    {
      "cell_type": "markdown",
      "metadata": {
        "id": "view-in-github",
        "colab_type": "text"
      },
      "source": [
        "<a href=\"https://colab.research.google.com/github/rodimendes/rest-analysis/blob/main/vendas2018_2022.ipynb\" target=\"_parent\"><img src=\"https://colab.research.google.com/assets/colab-badge.svg\" alt=\"Open In Colab\"/></a>"
      ]
    },
    {
      "cell_type": "markdown",
      "metadata": {
        "id": "dJDaHzE9frXU"
      },
      "source": [
        "## Importação de bibliotecas e pastas"
      ]
    },
    {
      "cell_type": "code",
      "execution_count": 1,
      "metadata": {
        "id": "tR12ajsAg3hF"
      },
      "outputs": [],
      "source": [
        "import pandas as pd\n",
        "import os\n",
        "import pathlib\n",
        "import sqlite3\n",
        "import datetime as dt"
      ]
    },
    {
      "cell_type": "code",
      "source": [
        "from google.colab import drive\n",
        "drive.mount('/ShardDrives/')"
      ],
      "metadata": {
        "colab": {
          "base_uri": "https://localhost:8080/"
        },
        "id": "YzzFoOgIbO1p",
        "outputId": "decb047d-00ae-41eb-f3bd-a5df92e90c29"
      },
      "execution_count": 2,
      "outputs": [
        {
          "output_type": "stream",
          "name": "stdout",
          "text": [
            "Mounted at /ShardDrives/\n"
          ]
        }
      ]
    },
    {
      "cell_type": "code",
      "source": [
        "pd.set_option('float_format', '{:,.2f}'.format)"
      ],
      "metadata": {
        "id": "9Wr-Aad5dIP6"
      },
      "execution_count": 3,
      "outputs": []
    },
    {
      "cell_type": "markdown",
      "metadata": {
        "id": "1fafYLq2YPAA"
      },
      "source": [
        "## Renomeando arquivos \n",
        "**Desnecessário para estes arquivos** \n",
        "\n",
        "Executado e nomes alterados"
      ]
    },
    {
      "cell_type": "code",
      "execution_count": 4,
      "metadata": {
        "id": "pldus1nN_pyp",
        "colab": {
          "base_uri": "https://localhost:8080/",
          "height": 1000
        },
        "outputId": "dd9b3ba3-a1f3-438c-985d-9156f84d2483"
      },
      "outputs": [
        {
          "output_type": "execute_result",
          "data": {
            "text/plain": [
              "'folder = \"/ShardDrives/MyDrive/rest_data_extraction /volume_vendas_produto/\"\\nfor file in os.listdir(folder):\\n    old_name = folder + file\\n    data = pd.read_excel(old_name)\\n    if file[:7] != \\'vendas_\\':\\n      report_date = data[\\'Unnamed: 1\\'][1][-10:]\\n      new_name = f\"{folder}vendas_{report_date}.xlsx\"\\n      os.rename(old_name, new_name)'"
            ],
            "application/vnd.google.colaboratory.intrinsic+json": {
              "type": "string"
            }
          },
          "metadata": {},
          "execution_count": 4
        }
      ],
      "source": [
        "\"\"\"folder = \"/ShardDrives/MyDrive/rest_data_extraction /volume_vendas_produto/\"\n",
        "for file in os.listdir(folder):\n",
        "    old_name = folder + file\n",
        "    data = pd.read_excel(old_name)\n",
        "    if file[:7] != 'vendas_':\n",
        "      report_date = data['Unnamed: 1'][1][-10:]\n",
        "      new_name = f\"{folder}vendas_{report_date}.xlsx\"\n",
        "      os.rename(old_name, new_name)\"\"\""
      ]
    },
    {
      "cell_type": "markdown",
      "metadata": {
        "id": "6RTHnYKBwcfJ"
      },
      "source": [
        "## Data opening"
      ]
    },
    {
      "cell_type": "code",
      "execution_count": 5,
      "metadata": {
        "id": "q3FGLiQdisz6",
        "outputId": "f0d2e702-9c7f-451b-a4da-5709fc410373",
        "colab": {
          "base_uri": "https://localhost:8080/",
          "height": 341
        }
      },
      "outputs": [
        {
          "output_type": "error",
          "ename": "FileNotFoundError",
          "evalue": "ignored",
          "traceback": [
            "\u001b[0;31m---------------------------------------------------------------------------\u001b[0m",
            "\u001b[0;31mFileNotFoundError\u001b[0m                         Traceback (most recent call last)",
            "\u001b[0;32m<ipython-input-5-c77a24f2d407>\u001b[0m in \u001b[0;36m<module>\u001b[0;34m\u001b[0m\n\u001b[1;32m      1\u001b[0m \u001b[0mfile\u001b[0m \u001b[0;34m=\u001b[0m \u001b[0;34m\"/ShardDrives/MyDrive/rest_data_extraction /base_de_dados/volume_vendas_2018_2022.xlsx\"\u001b[0m\u001b[0;34m\u001b[0m\u001b[0;34m\u001b[0m\u001b[0m\n\u001b[0;32m----> 2\u001b[0;31m \u001b[0mdata\u001b[0m \u001b[0;34m=\u001b[0m \u001b[0mpd\u001b[0m\u001b[0;34m.\u001b[0m\u001b[0mread_excel\u001b[0m\u001b[0;34m(\u001b[0m\u001b[0mfile\u001b[0m\u001b[0;34m)\u001b[0m\u001b[0;34m\u001b[0m\u001b[0;34m\u001b[0m\u001b[0m\n\u001b[0m",
            "\u001b[0;32m/usr/local/lib/python3.7/dist-packages/pandas/util/_decorators.py\u001b[0m in \u001b[0;36mwrapper\u001b[0;34m(*args, **kwargs)\u001b[0m\n\u001b[1;32m    309\u001b[0m                     \u001b[0mstacklevel\u001b[0m\u001b[0;34m=\u001b[0m\u001b[0mstacklevel\u001b[0m\u001b[0;34m,\u001b[0m\u001b[0;34m\u001b[0m\u001b[0;34m\u001b[0m\u001b[0m\n\u001b[1;32m    310\u001b[0m                 )\n\u001b[0;32m--> 311\u001b[0;31m             \u001b[0;32mreturn\u001b[0m \u001b[0mfunc\u001b[0m\u001b[0;34m(\u001b[0m\u001b[0;34m*\u001b[0m\u001b[0margs\u001b[0m\u001b[0;34m,\u001b[0m \u001b[0;34m**\u001b[0m\u001b[0mkwargs\u001b[0m\u001b[0;34m)\u001b[0m\u001b[0;34m\u001b[0m\u001b[0;34m\u001b[0m\u001b[0m\n\u001b[0m\u001b[1;32m    312\u001b[0m \u001b[0;34m\u001b[0m\u001b[0m\n\u001b[1;32m    313\u001b[0m         \u001b[0;32mreturn\u001b[0m \u001b[0mwrapper\u001b[0m\u001b[0;34m\u001b[0m\u001b[0;34m\u001b[0m\u001b[0m\n",
            "\u001b[0;32m/usr/local/lib/python3.7/dist-packages/pandas/io/excel/_base.py\u001b[0m in \u001b[0;36mread_excel\u001b[0;34m(io, sheet_name, header, names, index_col, usecols, squeeze, dtype, engine, converters, true_values, false_values, skiprows, nrows, na_values, keep_default_na, na_filter, verbose, parse_dates, date_parser, thousands, comment, skipfooter, convert_float, mangle_dupe_cols, storage_options)\u001b[0m\n\u001b[1;32m    362\u001b[0m     \u001b[0;32mif\u001b[0m \u001b[0;32mnot\u001b[0m \u001b[0misinstance\u001b[0m\u001b[0;34m(\u001b[0m\u001b[0mio\u001b[0m\u001b[0;34m,\u001b[0m \u001b[0mExcelFile\u001b[0m\u001b[0;34m)\u001b[0m\u001b[0;34m:\u001b[0m\u001b[0;34m\u001b[0m\u001b[0;34m\u001b[0m\u001b[0m\n\u001b[1;32m    363\u001b[0m         \u001b[0mshould_close\u001b[0m \u001b[0;34m=\u001b[0m \u001b[0;32mTrue\u001b[0m\u001b[0;34m\u001b[0m\u001b[0;34m\u001b[0m\u001b[0m\n\u001b[0;32m--> 364\u001b[0;31m         \u001b[0mio\u001b[0m \u001b[0;34m=\u001b[0m \u001b[0mExcelFile\u001b[0m\u001b[0;34m(\u001b[0m\u001b[0mio\u001b[0m\u001b[0;34m,\u001b[0m \u001b[0mstorage_options\u001b[0m\u001b[0;34m=\u001b[0m\u001b[0mstorage_options\u001b[0m\u001b[0;34m,\u001b[0m \u001b[0mengine\u001b[0m\u001b[0;34m=\u001b[0m\u001b[0mengine\u001b[0m\u001b[0;34m)\u001b[0m\u001b[0;34m\u001b[0m\u001b[0;34m\u001b[0m\u001b[0m\n\u001b[0m\u001b[1;32m    365\u001b[0m     \u001b[0;32melif\u001b[0m \u001b[0mengine\u001b[0m \u001b[0;32mand\u001b[0m \u001b[0mengine\u001b[0m \u001b[0;34m!=\u001b[0m \u001b[0mio\u001b[0m\u001b[0;34m.\u001b[0m\u001b[0mengine\u001b[0m\u001b[0;34m:\u001b[0m\u001b[0;34m\u001b[0m\u001b[0;34m\u001b[0m\u001b[0m\n\u001b[1;32m    366\u001b[0m         raise ValueError(\n",
            "\u001b[0;32m/usr/local/lib/python3.7/dist-packages/pandas/io/excel/_base.py\u001b[0m in \u001b[0;36m__init__\u001b[0;34m(self, path_or_buffer, engine, storage_options)\u001b[0m\n\u001b[1;32m   1190\u001b[0m             \u001b[0;32melse\u001b[0m\u001b[0;34m:\u001b[0m\u001b[0;34m\u001b[0m\u001b[0;34m\u001b[0m\u001b[0m\n\u001b[1;32m   1191\u001b[0m                 ext = inspect_excel_format(\n\u001b[0;32m-> 1192\u001b[0;31m                     \u001b[0mcontent_or_path\u001b[0m\u001b[0;34m=\u001b[0m\u001b[0mpath_or_buffer\u001b[0m\u001b[0;34m,\u001b[0m \u001b[0mstorage_options\u001b[0m\u001b[0;34m=\u001b[0m\u001b[0mstorage_options\u001b[0m\u001b[0;34m\u001b[0m\u001b[0;34m\u001b[0m\u001b[0m\n\u001b[0m\u001b[1;32m   1193\u001b[0m                 )\n\u001b[1;32m   1194\u001b[0m                 \u001b[0;32mif\u001b[0m \u001b[0mext\u001b[0m \u001b[0;32mis\u001b[0m \u001b[0;32mNone\u001b[0m\u001b[0;34m:\u001b[0m\u001b[0;34m\u001b[0m\u001b[0;34m\u001b[0m\u001b[0m\n",
            "\u001b[0;32m/usr/local/lib/python3.7/dist-packages/pandas/io/excel/_base.py\u001b[0m in \u001b[0;36minspect_excel_format\u001b[0;34m(content_or_path, storage_options)\u001b[0m\n\u001b[1;32m   1069\u001b[0m \u001b[0;34m\u001b[0m\u001b[0m\n\u001b[1;32m   1070\u001b[0m     with get_handle(\n\u001b[0;32m-> 1071\u001b[0;31m         \u001b[0mcontent_or_path\u001b[0m\u001b[0;34m,\u001b[0m \u001b[0;34m\"rb\"\u001b[0m\u001b[0;34m,\u001b[0m \u001b[0mstorage_options\u001b[0m\u001b[0;34m=\u001b[0m\u001b[0mstorage_options\u001b[0m\u001b[0;34m,\u001b[0m \u001b[0mis_text\u001b[0m\u001b[0;34m=\u001b[0m\u001b[0;32mFalse\u001b[0m\u001b[0;34m\u001b[0m\u001b[0;34m\u001b[0m\u001b[0m\n\u001b[0m\u001b[1;32m   1072\u001b[0m     ) as handle:\n\u001b[1;32m   1073\u001b[0m         \u001b[0mstream\u001b[0m \u001b[0;34m=\u001b[0m \u001b[0mhandle\u001b[0m\u001b[0;34m.\u001b[0m\u001b[0mhandle\u001b[0m\u001b[0;34m\u001b[0m\u001b[0;34m\u001b[0m\u001b[0m\n",
            "\u001b[0;32m/usr/local/lib/python3.7/dist-packages/pandas/io/common.py\u001b[0m in \u001b[0;36mget_handle\u001b[0;34m(path_or_buf, mode, encoding, compression, memory_map, is_text, errors, storage_options)\u001b[0m\n\u001b[1;32m    709\u001b[0m         \u001b[0;32melse\u001b[0m\u001b[0;34m:\u001b[0m\u001b[0;34m\u001b[0m\u001b[0;34m\u001b[0m\u001b[0m\n\u001b[1;32m    710\u001b[0m             \u001b[0;31m# Binary mode\u001b[0m\u001b[0;34m\u001b[0m\u001b[0;34m\u001b[0m\u001b[0;34m\u001b[0m\u001b[0m\n\u001b[0;32m--> 711\u001b[0;31m             \u001b[0mhandle\u001b[0m \u001b[0;34m=\u001b[0m \u001b[0mopen\u001b[0m\u001b[0;34m(\u001b[0m\u001b[0mhandle\u001b[0m\u001b[0;34m,\u001b[0m \u001b[0mioargs\u001b[0m\u001b[0;34m.\u001b[0m\u001b[0mmode\u001b[0m\u001b[0;34m)\u001b[0m\u001b[0;34m\u001b[0m\u001b[0;34m\u001b[0m\u001b[0m\n\u001b[0m\u001b[1;32m    712\u001b[0m         \u001b[0mhandles\u001b[0m\u001b[0;34m.\u001b[0m\u001b[0mappend\u001b[0m\u001b[0;34m(\u001b[0m\u001b[0mhandle\u001b[0m\u001b[0;34m)\u001b[0m\u001b[0;34m\u001b[0m\u001b[0;34m\u001b[0m\u001b[0m\n\u001b[1;32m    713\u001b[0m \u001b[0;34m\u001b[0m\u001b[0m\n",
            "\u001b[0;31mFileNotFoundError\u001b[0m: [Errno 2] No such file or directory: '/ShardDrives/MyDrive/rest_data_extraction /base_de_dados/volume_vendas_2018_2022.xlsx'"
          ]
        }
      ],
      "source": [
        "file = \"/ShardDrives/MyDrive/rest_data_extraction /base_de_dados/volume_vendas_2018_2022.xlsx\"\n",
        "data = pd.read_excel(file)"
      ]
    },
    {
      "cell_type": "markdown",
      "metadata": {
        "id": "K4697PhwxUrt"
      },
      "source": [
        "## Visão geral do dataframe"
      ]
    },
    {
      "cell_type": "code",
      "execution_count": null,
      "metadata": {
        "id": "sVQ8b1yFitSO"
      },
      "outputs": [],
      "source": [
        "data.head(10)"
      ]
    },
    {
      "cell_type": "markdown",
      "metadata": {
        "id": "eMrQSXb748uy"
      },
      "source": [
        "## Limpeza inicial"
      ]
    },
    {
      "cell_type": "code",
      "source": [
        "# Limpar linhas vazias e reiniciar o index\n",
        "\n",
        "df = data.rename(columns=data.iloc[7]).iloc[8:-1].reset_index(drop=True)\n",
        "df"
      ],
      "metadata": {
        "id": "kpYC8cKqRvpe"
      },
      "execution_count": null,
      "outputs": []
    },
    {
      "cell_type": "code",
      "source": [],
      "metadata": {
        "id": "oNRy6hC2o7kV"
      },
      "execution_count": null,
      "outputs": []
    },
    {
      "cell_type": "code",
      "source": [
        "# Separando coluna Famila / Sub-Familia em duas\n",
        "\n",
        "new_column = df['Familia / Sub-Familia'].str.split('/', n=1, expand=True)\n",
        "df['familia'] = new_column[0]\n",
        "df['sub_familia'] = new_column[1]"
      ],
      "metadata": {
        "id": "8vRUunSp49Qo"
      },
      "execution_count": null,
      "outputs": []
    },
    {
      "cell_type": "code",
      "source": [
        "# Renomeando colunas\n",
        "\n",
        "df = df[['Data', 'Código', 'Produto', 'familia', 'sub_familia', 'Quantidade', 'Valor Total S/IVA', 'Valor Total']]\n",
        "df.columns = ['data', 'codigo', 'produto', 'familia', 'sub_familia', 'quantidade', 'total_s_iva', 'total']"
      ],
      "metadata": {
        "id": "fsm-DZXJDcZ6"
      },
      "execution_count": null,
      "outputs": []
    },
    {
      "cell_type": "markdown",
      "source": [
        "### Tratamento de colunas\n"
      ],
      "metadata": {
        "id": "t6mbvMMONTk4"
      }
    },
    {
      "cell_type": "code",
      "execution_count": null,
      "metadata": {
        "id": "peSlXUC4n_JU"
      },
      "outputs": [],
      "source": [
        "# Definindo o tipo adequado para as colunas\n",
        "\n",
        "df.info()"
      ]
    },
    {
      "cell_type": "code",
      "execution_count": null,
      "metadata": {
        "id": "8IBrskEI6OAI"
      },
      "outputs": [],
      "source": [
        "df.data = pd.to_datetime(df.data)\n",
        "df['codigo'] = pd.to_numeric(df['codigo'])\n",
        "df['quantidade'] = pd.to_numeric(df['quantidade'])\n",
        "df['total_s_iva'] = pd.to_numeric(df['total_s_iva'])\n",
        "df['total'] = pd.to_numeric(df['total'])\n",
        "df.info()"
      ]
    },
    {
      "cell_type": "code",
      "execution_count": null,
      "metadata": {
        "id": "UXwyxEoe8pLE"
      },
      "outputs": [],
      "source": [
        "df.columns"
      ]
    },
    {
      "cell_type": "markdown",
      "source": [
        "## Criação do Banco de Dados\n",
        "**Etapa desnecessária para este caso de já termos o dataset completo e não ser necessário atualizar com novos dados**\n"
      ],
      "metadata": {
        "id": "yKH9qzPNBb32"
      }
    },
    {
      "cell_type": "code",
      "execution_count": null,
      "metadata": {
        "id": "Gwo4_JgH_U49"
      },
      "outputs": [],
      "source": [
        "#bd = sqlite3.connect(\"vendas_restaurantes.db\")"
      ]
    },
    {
      "cell_type": "code",
      "execution_count": null,
      "metadata": {
        "id": "4zhE_xm3DRbX"
      },
      "outputs": [],
      "source": [
        "#cursor = bd.cursor()"
      ]
    },
    {
      "cell_type": "markdown",
      "source": [
        "### A célula abaixo só é necessário executar na primeira vez, para a criação da tabela no banco de dados"
      ],
      "metadata": {
        "id": "k56F6Dwt_jct"
      }
    },
    {
      "cell_type": "code",
      "execution_count": null,
      "metadata": {
        "id": "PltoWhoSCdHP"
      },
      "outputs": [],
      "source": [
        "#cursor.execute(\"CREATE TABLE 'Vendas Restauração 2018_2022' (data INTEGER, codigo INT, produto TEXT, familia TEXT, sub_familia TEXT, quantidade INT, total_s_iva REAL, total REAL)\")"
      ]
    },
    {
      "cell_type": "code",
      "source": [
        "#df.head(2)"
      ],
      "metadata": {
        "id": "1wCbCtg7_2kw"
      },
      "execution_count": null,
      "outputs": []
    },
    {
      "cell_type": "code",
      "execution_count": null,
      "metadata": {
        "id": "-LhVFjcGH5XT"
      },
      "outputs": [],
      "source": [
        "#for index, row in df.iterrows():\n",
        "#    data = row[0]\n",
        "#    codigo = row[1]\n",
        "#    produto = row[2]\n",
        "#    familia = row[3]\n",
        "#    sub_familia = row[4]\n",
        "#    quantidade = row[5]\n",
        "#    total_s_iva = row[6]\n",
        "#    total = row[7]\n",
        "#    cursor.execute('''INSERT INTO 'Vendas Restauração 2018_2022' \\\n",
        "#                    (data, codigo, produto, familia, sub_familia, quantidade, total_s_iva, total) VALUES (?,?,?,?,?,?,?,?)''', \\\n",
        "#                    (str(data), codigo, produto, familia, sub_familia, quantidade, total_s_iva, total))\n",
        "#    \n",
        "#    bd.commit()"
      ]
    },
    {
      "cell_type": "markdown",
      "source": [
        "##**Primeiras explorações**"
      ],
      "metadata": {
        "id": "0pxWjXkDVkR6"
      }
    },
    {
      "cell_type": "code",
      "source": [
        "# Faturamento total do período\n",
        "\n",
        "faturamento_total = df.total.sum()\n",
        "f'A empresa faturou {faturamento_total:,.2f} de euros durante o período'"
      ],
      "metadata": {
        "id": "49osB_RfXre0"
      },
      "execution_count": null,
      "outputs": []
    },
    {
      "cell_type": "code",
      "source": [
        "# Faturamento por família\n",
        "\n",
        "faturamento_familia = df[['familia', 'total']].groupby(by='familia').sum()\n",
        "faturamento_familia.sort_values(by='total', ascending=False)"
      ],
      "metadata": {
        "id": "cirwWKRMVi9B"
      },
      "execution_count": null,
      "outputs": []
    },
    {
      "cell_type": "markdown",
      "source": [
        "###Rentabilidade diária"
      ],
      "metadata": {
        "id": "F0sJqz0SIqal"
      }
    },
    {
      "cell_type": "code",
      "source": [
        "dt.date.isoweekday(df.data[0])"
      ],
      "metadata": {
        "id": "NtROSgmNZgdE"
      },
      "execution_count": null,
      "outputs": []
    },
    {
      "cell_type": "code",
      "source": [
        "# Criando uma lista com todos os dias de venda e atribuindo a uma nova coluna\n",
        "\n",
        "dia_semana = []\n",
        "for dia in df.data:\n",
        "  dia_semana.append(dt.date.isoweekday(dia))\n",
        "\n",
        "df['dia_semana'] = dia_semana\n",
        "df.head(2)"
      ],
      "metadata": {
        "id": "pdTGm6nvf5r3"
      },
      "execution_count": null,
      "outputs": []
    },
    {
      "cell_type": "code",
      "source": [
        "rentabilidade_diaria = df[['quantidade','total', 'dia_semana']].groupby(by='dia_semana').sum()\n",
        "rentabilidade_diaria"
      ],
      "metadata": {
        "id": "Kzee65PIdhkj"
      },
      "execution_count": null,
      "outputs": []
    },
    {
      "cell_type": "code",
      "source": [
        "# Rentabilidade diária, em ordem decrescente, para o período.\n",
        "\n",
        "rentabilidade_diaria.sort_values(by='total', ascending=False)"
      ],
      "metadata": {
        "id": "nY9DYr6AhE3n"
      },
      "execution_count": null,
      "outputs": []
    },
    {
      "cell_type": "code",
      "source": [
        "# Dia da semana possui mais entradas, ou seja, mais linhas.\n",
        "\n",
        "df.dia_semana.value_counts()"
      ],
      "metadata": {
        "id": "lY_rUXmrhSBx"
      },
      "execution_count": null,
      "outputs": []
    },
    {
      "cell_type": "code",
      "source": [
        "## Por que as segundas e possuem valores muito baixos?\n",
        "## Quais os dias e horários de funcionamento do restaurante?"
      ],
      "metadata": {
        "id": "-pB3V2vPH2qN"
      },
      "execution_count": null,
      "outputs": []
    },
    {
      "cell_type": "code",
      "source": [
        "df[df['dia_semana'] == 1]"
      ],
      "metadata": {
        "id": "EIuJAtK6Hk-O"
      },
      "execution_count": null,
      "outputs": []
    },
    {
      "cell_type": "markdown",
      "source": [
        "##**Regressão Linear - Faturamento futuro**##"
      ],
      "metadata": {
        "id": "rQTfg1iZ4C4_"
      }
    },
    {
      "cell_type": "code",
      "source": [
        "# Bibliotecas para construção do modelo\n",
        "\n",
        "import statsmodels.api as sm\n",
        "from sklearn.linear_model import LinearRegression\n",
        "import matplotlib.pyplot as plt"
      ],
      "metadata": {
        "id": "1rzaX9EN4jL2"
      },
      "execution_count": null,
      "outputs": []
    },
    {
      "cell_type": "code",
      "source": [
        "object_df = df.select_dtypes(include=['object']).copy()"
      ],
      "metadata": {
        "id": "dhRr44GRvcQb"
      },
      "execution_count": null,
      "outputs": []
    },
    {
      "cell_type": "code",
      "source": [
        "object_df"
      ],
      "metadata": {
        "id": "tQvH80TF3QM_"
      },
      "execution_count": null,
      "outputs": []
    },
    {
      "cell_type": "code",
      "source": [
        "anos = []\n",
        "for dia in df['data']:\n",
        "  year = dia.year\n",
        "  anos.append(year)\n",
        "\n",
        "print(len(anos))"
      ],
      "metadata": {
        "id": "qJwHrBcp3Ytw"
      },
      "execution_count": null,
      "outputs": []
    },
    {
      "cell_type": "code",
      "source": [
        "df['ano'] = anos"
      ],
      "metadata": {
        "id": "2d9Fw_bs_cWJ"
      },
      "execution_count": null,
      "outputs": []
    },
    {
      "cell_type": "code",
      "source": [
        "# Agrupar por anos e analisar ano a ano"
      ],
      "metadata": {
        "id": "BgsPB6ZUANsC"
      },
      "execution_count": null,
      "outputs": []
    },
    {
      "cell_type": "code",
      "source": [
        "# Célula teste\n",
        "\n",
        "df.sample()"
      ],
      "metadata": {
        "id": "4hJfoEzl7YXG"
      },
      "execution_count": null,
      "outputs": []
    },
    {
      "cell_type": "code",
      "source": [
        "df_2018 = df[df['ano'] == 2018]\n",
        "df_2019 = df[df['ano'] == 2019]\n",
        "df_2020 = df[df['ano'] == 2020]\n",
        "df_2021 = df[df['ano'] == 2021]\n",
        "df_2022 = df[df['ano'] == 2022]"
      ],
      "metadata": {
        "id": "-bOfG2uOD_tq"
      },
      "execution_count": null,
      "outputs": []
    },
    {
      "cell_type": "code",
      "source": [
        "print(f'Ano 2018 - {df_2018.shape}')\n",
        "print(f'Ano 2019 - {df_2019.shape}')\n",
        "print(f'Ano 2020 - {df_2020.shape}')\n",
        "print(f'Ano 2021 - {df_2021.shape}')\n",
        "print(f'Ano 2022 - {df_2022.shape}')"
      ],
      "metadata": {
        "id": "D9r2qKQHE4b7"
      },
      "execution_count": null,
      "outputs": []
    },
    {
      "cell_type": "code",
      "source": [
        "df[['quantidade', 'total', 'ano']].groupby(by='ano').sum()"
      ],
      "metadata": {
        "id": "3lAfBvE6GgqM"
      },
      "execution_count": null,
      "outputs": []
    },
    {
      "cell_type": "code",
      "source": [
        "# Fazer o git funcionar para o trabalho\n",
        "\"\"\"\n",
        "Para abrir:\n",
        "  Clicar ARQUIVO >> ABRIR NOTEBOOK\n",
        "  Selecionar a aba GITHUB e localizar o repositório 'rodimendes/rest-analysis', o branch MAIN e clicar no arquivo 'vendas2018_2022.ipynb'\n",
        "Ao sair:\n",
        "  Clicar ARQUIVO >> SALVAR UMA CÓPIA NO GITHUB\n",
        "  Na janela que se abrirá, conferir repositório, branch e clicar em OK\n",
        "\"\"\""
      ],
      "metadata": {
        "id": "GQUzuZhfGpmf"
      },
      "execution_count": null,
      "outputs": []
    },
    {
      "cell_type": "code",
      "source": [
        "# Agrupar por mês e analisar mês a mês (??)\n",
        "# Agrupar por dia e analisar o dia a dia\n",
        "# Fazer RL e identificar o comportamento da sazonalidade e a \"outra\"\n",
        "# Fazer Time Series e comparar modelos\n",
        "# meses = []\n"
      ],
      "metadata": {
        "id": "e-FQHv4WGqiN"
      },
      "execution_count": null,
      "outputs": []
    },
    {
      "cell_type": "code",
      "source": [
        "#sandragomes"
      ],
      "metadata": {
        "id": "oth2ppR5o-hX"
      },
      "execution_count": null,
      "outputs": []
    }
  ],
  "metadata": {
    "colab": {
      "collapsed_sections": [
        "dJDaHzE9frXU",
        "1fafYLq2YPAA",
        "6RTHnYKBwcfJ",
        "K4697PhwxUrt"
      ],
      "provenance": [],
      "include_colab_link": true
    },
    "kernelspec": {
      "display_name": "Python 3 (ipykernel)",
      "language": "python",
      "name": "python3"
    },
    "language_info": {
      "codemirror_mode": {
        "name": "ipython",
        "version": 3
      },
      "file_extension": ".py",
      "mimetype": "text/x-python",
      "name": "python",
      "nbconvert_exporter": "python",
      "pygments_lexer": "ipython3",
      "version": "3.8.12"
    },
    "toc": {
      "base_numbering": 1,
      "nav_menu": {},
      "number_sections": true,
      "sideBar": true,
      "skip_h1_title": false,
      "title_cell": "Table of Contents",
      "title_sidebar": "Contents",
      "toc_cell": false,
      "toc_position": {},
      "toc_section_display": true,
      "toc_window_display": false
    }
  },
  "nbformat": 4,
  "nbformat_minor": 0
}